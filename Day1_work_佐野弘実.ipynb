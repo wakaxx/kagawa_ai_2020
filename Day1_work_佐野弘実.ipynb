{
  "nbformat": 4,
  "nbformat_minor": 0,
  "metadata": {
    "colab": {
      "name": "kaggle_kickstarter.ipynb",
      "provenance": [],
      "collapsed_sections": []
    },
    "kernelspec": {
      "name": "python3",
      "display_name": "Python 3"
    },
    "accelerator": "GPU"
  },
  "cells": [
    {
      "cell_type": "markdown",
      "metadata": {
        "id": "jJz1BLX6iXa8"
      },
      "source": [
        "#Kaggle Kickstarter Projectでのロジスティック回帰\n",
        "\n",
        "・KaggleURL\n",
        "https://www.kaggle.com/kemical/kickstarter-projects"
      ]
    },
    {
      "cell_type": "markdown",
      "metadata": {
        "id": "7gMvT1SDOb0_"
      },
      "source": [
        "#全体の流れ\n",
        "全体の流れは以下の通りとする\n",
        "1. データセットを調べる\n",
        "2. データの読み込み\n",
        "3. 前処理を行う\n",
        "4. 特徴量を選択する\n",
        "5. モデルを学習する\n",
        "6. モデルを評価する\n",
        "7. まとめ"
      ]
    },
    {
      "cell_type": "markdown",
      "metadata": {
        "id": "i03lnRhrOwV2"
      },
      "source": [
        "# 1.データセットを調べる\n",
        "---\n",
        "## データセット ks-projects-201801.csv\n",
        "  * ID：内部ID\n",
        "  * name：プロジェクト名\n",
        "  * cetegory：カテゴリー\n",
        "  * main_category：メインカテゴリー\n",
        "  * currency：使用する通貨\n",
        "  * deadline：締切日\n",
        "  * goal：ゴール金額\n",
        "  * launched：開始日\n",
        "  * pledged：契約金額\n",
        "  * state：プロジェクトの状態\n",
        "  * backers：後援者数\n",
        "  * country：国\n",
        "  * usd pledged：契約金額（ドル換算）\n",
        "  * usd_pledged_real：実質契約金額（ドル換算）\n",
        "  * usd_goal_real：ゴール金額（ドル換算）\n",
        "\n"
      ]
    },
    {
      "cell_type": "code",
      "metadata": {
        "id": "Vf2y1ASWiAfB"
      },
      "source": [
        "# ライブラリのインポート\n",
        "%matplotlib inline\n",
        "import pandas as pd\n",
        "import numpy as np\n",
        "import matplotlib.pyplot as plt\n",
        "import seaborn as sns\n",
        "from sklearn.linear_model import SGDClassifier\n",
        "from sklearn.metrics import log_loss, accuracy_score, confusion_matrix\n",
        "from  sklearn.metrics import accuracy_score, precision_recall_fscore_support, confusion_matrix # 回帰問題における性能評価に関する関数"
      ],
      "execution_count": null,
      "outputs": []
    },
    {
      "cell_type": "markdown",
      "metadata": {
        "id": "Wf0bBqt3U8K9"
      },
      "source": [
        "# 2.データの読み込み"
      ]
    },
    {
      "cell_type": "code",
      "metadata": {
        "id": "VbLyBC-xjPq1",
        "outputId": "39570fb9-47c4-44ff-a36f-d54d567c2654",
        "colab": {
          "base_uri": "https://localhost:8080/",
          "height": 317
        }
      },
      "source": [
        "df_ks = pd.read_csv(\"ks-projects-201801.csv\")\n",
        "\n",
        "# 要約統計量\n",
        "df_ks.describe()"
      ],
      "execution_count": null,
      "outputs": [
        {
          "output_type": "execute_result",
          "data": {
            "text/html": [
              "<div>\n",
              "<style scoped>\n",
              "    .dataframe tbody tr th:only-of-type {\n",
              "        vertical-align: middle;\n",
              "    }\n",
              "\n",
              "    .dataframe tbody tr th {\n",
              "        vertical-align: top;\n",
              "    }\n",
              "\n",
              "    .dataframe thead th {\n",
              "        text-align: right;\n",
              "    }\n",
              "</style>\n",
              "<table border=\"1\" class=\"dataframe\">\n",
              "  <thead>\n",
              "    <tr style=\"text-align: right;\">\n",
              "      <th></th>\n",
              "      <th>ID</th>\n",
              "      <th>goal</th>\n",
              "      <th>pledged</th>\n",
              "      <th>backers</th>\n",
              "      <th>usd pledged</th>\n",
              "      <th>usd_pledged_real</th>\n",
              "      <th>usd_goal_real</th>\n",
              "    </tr>\n",
              "  </thead>\n",
              "  <tbody>\n",
              "    <tr>\n",
              "      <th>count</th>\n",
              "      <td>3.786610e+05</td>\n",
              "      <td>3.786610e+05</td>\n",
              "      <td>3.786610e+05</td>\n",
              "      <td>378661.000000</td>\n",
              "      <td>3.748640e+05</td>\n",
              "      <td>3.786610e+05</td>\n",
              "      <td>3.786610e+05</td>\n",
              "    </tr>\n",
              "    <tr>\n",
              "      <th>mean</th>\n",
              "      <td>1.074731e+09</td>\n",
              "      <td>4.908079e+04</td>\n",
              "      <td>9.682979e+03</td>\n",
              "      <td>105.617476</td>\n",
              "      <td>7.036729e+03</td>\n",
              "      <td>9.058924e+03</td>\n",
              "      <td>4.545440e+04</td>\n",
              "    </tr>\n",
              "    <tr>\n",
              "      <th>std</th>\n",
              "      <td>6.190862e+08</td>\n",
              "      <td>1.183391e+06</td>\n",
              "      <td>9.563601e+04</td>\n",
              "      <td>907.185035</td>\n",
              "      <td>7.863975e+04</td>\n",
              "      <td>9.097334e+04</td>\n",
              "      <td>1.152950e+06</td>\n",
              "    </tr>\n",
              "    <tr>\n",
              "      <th>min</th>\n",
              "      <td>5.971000e+03</td>\n",
              "      <td>1.000000e-02</td>\n",
              "      <td>0.000000e+00</td>\n",
              "      <td>0.000000</td>\n",
              "      <td>0.000000e+00</td>\n",
              "      <td>0.000000e+00</td>\n",
              "      <td>1.000000e-02</td>\n",
              "    </tr>\n",
              "    <tr>\n",
              "      <th>25%</th>\n",
              "      <td>5.382635e+08</td>\n",
              "      <td>2.000000e+03</td>\n",
              "      <td>3.000000e+01</td>\n",
              "      <td>2.000000</td>\n",
              "      <td>1.698000e+01</td>\n",
              "      <td>3.100000e+01</td>\n",
              "      <td>2.000000e+03</td>\n",
              "    </tr>\n",
              "    <tr>\n",
              "      <th>50%</th>\n",
              "      <td>1.075276e+09</td>\n",
              "      <td>5.200000e+03</td>\n",
              "      <td>6.200000e+02</td>\n",
              "      <td>12.000000</td>\n",
              "      <td>3.947200e+02</td>\n",
              "      <td>6.243300e+02</td>\n",
              "      <td>5.500000e+03</td>\n",
              "    </tr>\n",
              "    <tr>\n",
              "      <th>75%</th>\n",
              "      <td>1.610149e+09</td>\n",
              "      <td>1.600000e+04</td>\n",
              "      <td>4.076000e+03</td>\n",
              "      <td>56.000000</td>\n",
              "      <td>3.034090e+03</td>\n",
              "      <td>4.050000e+03</td>\n",
              "      <td>1.550000e+04</td>\n",
              "    </tr>\n",
              "    <tr>\n",
              "      <th>max</th>\n",
              "      <td>2.147476e+09</td>\n",
              "      <td>1.000000e+08</td>\n",
              "      <td>2.033899e+07</td>\n",
              "      <td>219382.000000</td>\n",
              "      <td>2.033899e+07</td>\n",
              "      <td>2.033899e+07</td>\n",
              "      <td>1.663614e+08</td>\n",
              "    </tr>\n",
              "  </tbody>\n",
              "</table>\n",
              "</div>"
            ],
            "text/plain": [
              "                 ID          goal  ...  usd_pledged_real  usd_goal_real\n",
              "count  3.786610e+05  3.786610e+05  ...      3.786610e+05   3.786610e+05\n",
              "mean   1.074731e+09  4.908079e+04  ...      9.058924e+03   4.545440e+04\n",
              "std    6.190862e+08  1.183391e+06  ...      9.097334e+04   1.152950e+06\n",
              "min    5.971000e+03  1.000000e-02  ...      0.000000e+00   1.000000e-02\n",
              "25%    5.382635e+08  2.000000e+03  ...      3.100000e+01   2.000000e+03\n",
              "50%    1.075276e+09  5.200000e+03  ...      6.243300e+02   5.500000e+03\n",
              "75%    1.610149e+09  1.600000e+04  ...      4.050000e+03   1.550000e+04\n",
              "max    2.147476e+09  1.000000e+08  ...      2.033899e+07   1.663614e+08\n",
              "\n",
              "[8 rows x 7 columns]"
            ]
          },
          "metadata": {
            "tags": []
          },
          "execution_count": 38
        }
      ]
    },
    {
      "cell_type": "code",
      "metadata": {
        "id": "p7fr6B9CjyzC",
        "outputId": "6a28db04-79ae-4874-ffd7-708ae1bf5fc6",
        "colab": {
          "base_uri": "https://localhost:8080/",
          "height": 391
        }
      },
      "source": [
        "# データの要約\n",
        "df_ks.info()"
      ],
      "execution_count": null,
      "outputs": [
        {
          "output_type": "stream",
          "text": [
            "<class 'pandas.core.frame.DataFrame'>\n",
            "RangeIndex: 378661 entries, 0 to 378660\n",
            "Data columns (total 15 columns):\n",
            " #   Column            Non-Null Count   Dtype  \n",
            "---  ------            --------------   -----  \n",
            " 0   ID                378661 non-null  int64  \n",
            " 1   name              378657 non-null  object \n",
            " 2   category          378661 non-null  object \n",
            " 3   main_category     378661 non-null  object \n",
            " 4   currency          378661 non-null  object \n",
            " 5   deadline          378661 non-null  object \n",
            " 6   goal              378661 non-null  float64\n",
            " 7   launched          378661 non-null  object \n",
            " 8   pledged           378661 non-null  float64\n",
            " 9   state             378661 non-null  object \n",
            " 10  backers           378661 non-null  int64  \n",
            " 11  country           378661 non-null  object \n",
            " 12  usd pledged       374864 non-null  float64\n",
            " 13  usd_pledged_real  378661 non-null  float64\n",
            " 14  usd_goal_real     378661 non-null  float64\n",
            "dtypes: float64(5), int64(2), object(8)\n",
            "memory usage: 43.3+ MB\n"
          ],
          "name": "stdout"
        }
      ]
    },
    {
      "cell_type": "markdown",
      "metadata": {
        "id": "-L8AXZxhVRu0"
      },
      "source": [
        "#3.前処理を行う\n",
        "\n",
        "データは378661行あり、name、usd pledgedに欠損行が存在するため、欠損行を削除する"
      ]
    },
    {
      "cell_type": "code",
      "metadata": {
        "id": "ozDa0J7Aj2OL",
        "outputId": "b7d49c16-6de5-48b2-bb8b-c7611b09fc79",
        "colab": {
          "base_uri": "https://localhost:8080/",
          "height": 391
        }
      },
      "source": [
        "# 欠損値行削除\n",
        "df_ks = df_ks.dropna()\n",
        "df_ks.info()"
      ],
      "execution_count": null,
      "outputs": [
        {
          "output_type": "stream",
          "text": [
            "<class 'pandas.core.frame.DataFrame'>\n",
            "Int64Index: 374860 entries, 0 to 378660\n",
            "Data columns (total 15 columns):\n",
            " #   Column            Non-Null Count   Dtype  \n",
            "---  ------            --------------   -----  \n",
            " 0   ID                374860 non-null  int64  \n",
            " 1   name              374860 non-null  object \n",
            " 2   category          374860 non-null  object \n",
            " 3   main_category     374860 non-null  object \n",
            " 4   currency          374860 non-null  object \n",
            " 5   deadline          374860 non-null  object \n",
            " 6   goal              374860 non-null  float64\n",
            " 7   launched          374860 non-null  object \n",
            " 8   pledged           374860 non-null  float64\n",
            " 9   state             374860 non-null  object \n",
            " 10  backers           374860 non-null  int64  \n",
            " 11  country           374860 non-null  object \n",
            " 12  usd pledged       374860 non-null  float64\n",
            " 13  usd_pledged_real  374860 non-null  float64\n",
            " 14  usd_goal_real     374860 non-null  float64\n",
            "dtypes: float64(5), int64(2), object(8)\n",
            "memory usage: 45.8+ MB\n"
          ],
          "name": "stdout"
        }
      ]
    },
    {
      "cell_type": "code",
      "metadata": {
        "id": "SP-AR07cqzs8",
        "outputId": "4b14e126-6ee8-4daa-dd64-97cc1a401470",
        "colab": {
          "base_uri": "https://localhost:8080/",
          "height": 119
        }
      },
      "source": [
        "# stateの状態を調べる\n",
        "print(df_ks['state'].value_counts())"
      ],
      "execution_count": null,
      "outputs": [
        {
          "output_type": "stream",
          "text": [
            "failed        197611\n",
            "successful    133851\n",
            "canceled       38757\n",
            "live            2798\n",
            "suspended       1843\n",
            "Name: state, dtype: int64\n"
          ],
          "name": "stdout"
        }
      ]
    },
    {
      "cell_type": "code",
      "metadata": {
        "id": "mPszyXo_tnTc",
        "outputId": "294fb41e-28bc-4d6c-9fa0-3c45d1e18739",
        "colab": {
          "base_uri": "https://localhost:8080/",
          "height": 68
        }
      },
      "source": [
        "# stateがsuccessful,failのものに絞り込む\n",
        "df_ks = df_ks[df_ks['state'].str.contains(\"success\") | df_ks['state'].str.contains(\"failed\")]\n",
        "\n",
        "# steteがsuccessfulの場合1、failの場合0とする\n",
        "df_ks['state_flg'] = df_ks['state'].apply(lambda x : 1 if x == \"successful\" else 0)\n",
        "\n",
        "print(df_ks['state_flg'].value_counts())"
      ],
      "execution_count": null,
      "outputs": [
        {
          "output_type": "stream",
          "text": [
            "0    197611\n",
            "1    133851\n",
            "Name: state_flg, dtype: int64\n"
          ],
          "name": "stdout"
        }
      ]
    },
    {
      "cell_type": "markdown",
      "metadata": {
        "id": "Z-F2_YSC3yR7"
      },
      "source": [
        "#4.特徴量を選択する\n",
        "回帰に不要な列を削除する"
      ]
    },
    {
      "cell_type": "code",
      "metadata": {
        "id": "vm4WKIK2VgjS",
        "outputId": "ba0d4001-04a0-40a9-d220-f253f29252ed",
        "colab": {
          "base_uri": "https://localhost:8080/",
          "height": 204
        }
      },
      "source": [
        "# 関連しない項目\n",
        "# 後にならないと分からない項目\n",
        "\n",
        "drop_idx = ['ID', 'name', 'currency', 'deadline', 'launched', 'country', 'pledged', 'state', 'backers', 'usd pledged', 'usd_pledged_real', 'usd_goal_real']\n",
        "df_ks = df_ks.drop(drop_idx, axis=1)\n",
        "\n",
        "df_ks.head()"
      ],
      "execution_count": null,
      "outputs": [
        {
          "output_type": "execute_result",
          "data": {
            "text/html": [
              "<div>\n",
              "<style scoped>\n",
              "    .dataframe tbody tr th:only-of-type {\n",
              "        vertical-align: middle;\n",
              "    }\n",
              "\n",
              "    .dataframe tbody tr th {\n",
              "        vertical-align: top;\n",
              "    }\n",
              "\n",
              "    .dataframe thead th {\n",
              "        text-align: right;\n",
              "    }\n",
              "</style>\n",
              "<table border=\"1\" class=\"dataframe\">\n",
              "  <thead>\n",
              "    <tr style=\"text-align: right;\">\n",
              "      <th></th>\n",
              "      <th>category</th>\n",
              "      <th>main_category</th>\n",
              "      <th>goal</th>\n",
              "      <th>state_flg</th>\n",
              "    </tr>\n",
              "  </thead>\n",
              "  <tbody>\n",
              "    <tr>\n",
              "      <th>0</th>\n",
              "      <td>Poetry</td>\n",
              "      <td>Publishing</td>\n",
              "      <td>1000.0</td>\n",
              "      <td>0</td>\n",
              "    </tr>\n",
              "    <tr>\n",
              "      <th>1</th>\n",
              "      <td>Narrative Film</td>\n",
              "      <td>Film &amp; Video</td>\n",
              "      <td>30000.0</td>\n",
              "      <td>0</td>\n",
              "    </tr>\n",
              "    <tr>\n",
              "      <th>2</th>\n",
              "      <td>Narrative Film</td>\n",
              "      <td>Film &amp; Video</td>\n",
              "      <td>45000.0</td>\n",
              "      <td>0</td>\n",
              "    </tr>\n",
              "    <tr>\n",
              "      <th>3</th>\n",
              "      <td>Music</td>\n",
              "      <td>Music</td>\n",
              "      <td>5000.0</td>\n",
              "      <td>0</td>\n",
              "    </tr>\n",
              "    <tr>\n",
              "      <th>5</th>\n",
              "      <td>Restaurants</td>\n",
              "      <td>Food</td>\n",
              "      <td>50000.0</td>\n",
              "      <td>1</td>\n",
              "    </tr>\n",
              "  </tbody>\n",
              "</table>\n",
              "</div>"
            ],
            "text/plain": [
              "         category main_category     goal  state_flg\n",
              "0          Poetry    Publishing   1000.0          0\n",
              "1  Narrative Film  Film & Video  30000.0          0\n",
              "2  Narrative Film  Film & Video  45000.0          0\n",
              "3           Music         Music   5000.0          0\n",
              "5     Restaurants          Food  50000.0          1"
            ]
          },
          "metadata": {
            "tags": []
          },
          "execution_count": 43
        }
      ]
    },
    {
      "cell_type": "code",
      "metadata": {
        "id": "BXMlsCAOof34"
      },
      "source": [
        "#pd.plotting.scatter_matrix(df_ks, figsize=(10, 10))\n",
        "#plt.show()"
      ],
      "execution_count": null,
      "outputs": []
    },
    {
      "cell_type": "code",
      "metadata": {
        "id": "VEs6g2tfz-NU"
      },
      "source": [
        "# 質的変数をダミー変数化\n",
        "df_ks = pd.get_dummies(df_ks)"
      ],
      "execution_count": null,
      "outputs": []
    },
    {
      "cell_type": "code",
      "metadata": {
        "id": "N-Op6bS2pESv",
        "outputId": "2adbc3c1-a59e-4a07-eaf6-8731b6875117",
        "colab": {
          "base_uri": "https://localhost:8080/",
          "height": 391
        }
      },
      "source": [
        "# 相関関係をヒートマップで確認\n",
        "sns.heatmap(df_ks.corr())\n",
        "plt.show()"
      ],
      "execution_count": null,
      "outputs": [
        {
          "output_type": "display_data",
          "data": {
            "image/png": "[encoded data removed]",
            "text/plain": [
              "<Figure size 432x288 with 2 Axes>"
            ]
          },
          "metadata": {
            "tags": [],
            "needs_background": "light"
          }
        }
      ]
    },
    {
      "cell_type": "markdown",
      "metadata": {
        "id": "U_S7crXFimNa"
      },
      "source": [
        "#5.モデルを学習する\n",
        "\n",
        "##ロジスティック回帰で分類"
      ]
    },
    {
      "cell_type": "code",
      "metadata": {
        "id": "5vw4bhiglW6t",
        "outputId": "63e79462-cc1c-4fc1-91c5-cef6c51ce2ee",
        "colab": {
          "base_uri": "https://localhost:8080/",
          "height": 119
        }
      },
      "source": [
        "y = df_ks['state_flg'].values\n",
        "X = df_ks.drop('state_flg', axis=1).values\n",
        "clf = SGDClassifier(loss='log', penalty='none', max_iter=10000, fit_intercept=True, random_state=0, tol=1e-3)\n",
        "clf.fit(X, y)"
      ],
      "execution_count": null,
      "outputs": [
        {
          "output_type": "execute_result",
          "data": {
            "text/plain": [
              "SGDClassifier(alpha=0.0001, average=False, class_weight=None,\n",
              "              early_stopping=False, epsilon=0.1, eta0=0.0, fit_intercept=True,\n",
              "              l1_ratio=0.15, learning_rate='optimal', loss='log',\n",
              "              max_iter=10000, n_iter_no_change=5, n_jobs=None, penalty='none',\n",
              "              power_t=0.5, random_state=0, shuffle=True, tol=0.001,\n",
              "              validation_fraction=0.1, verbose=0, warm_start=False)"
            ]
          },
          "metadata": {
            "tags": []
          },
          "execution_count": 47
        }
      ]
    },
    {
      "cell_type": "markdown",
      "metadata": {
        "id": "a-Sqw_1x4E6U"
      },
      "source": [
        "#6.モデルを評価する"
      ]
    },
    {
      "cell_type": "code",
      "metadata": {
        "id": "_Xv57YG-mT8s",
        "outputId": "b9ce265b-b8ec-42f4-92d1-65ba64239f27",
        "colab": {
          "base_uri": "https://localhost:8080/",
          "height": 51
        }
      },
      "source": [
        "y_est = clf.predict(X)\n",
        "\n",
        "print('対数尤度 = {:.3f}'.format(- log_loss(y, y_est)))\n",
        "\n",
        "print('正答率 = {:.3f}'.format(100* accuracy_score(y, y_est)))"
      ],
      "execution_count": null,
      "outputs": [
        {
          "output_type": "stream",
          "text": [
            "対数尤度 = -13.947\n",
            "正答率 = 59.618\n"
          ],
          "name": "stdout"
        }
      ]
    },
    {
      "cell_type": "code",
      "metadata": {
        "id": "HJmNXD0lnFZb",
        "outputId": "15efb1bb-d03c-4382-dbb2-a34d67666602",
        "colab": {
          "base_uri": "https://localhost:8080/",
          "height": 111
        }
      },
      "source": [
        "conf_mat = pd.DataFrame(confusion_matrix(y, y_est), \n",
        "                        index=['実績 failed', '実績 successful'], \n",
        "                        columns=['予測 failed', '予測 successful'])\n",
        "conf_mat"
      ],
      "execution_count": null,
      "outputs": [
        {
          "output_type": "execute_result",
          "data": {
            "text/html": [
              "<div>\n",
              "<style scoped>\n",
              "    .dataframe tbody tr th:only-of-type {\n",
              "        vertical-align: middle;\n",
              "    }\n",
              "\n",
              "    .dataframe tbody tr th {\n",
              "        vertical-align: top;\n",
              "    }\n",
              "\n",
              "    .dataframe thead th {\n",
              "        text-align: right;\n",
              "    }\n",
              "</style>\n",
              "<table border=\"1\" class=\"dataframe\">\n",
              "  <thead>\n",
              "    <tr style=\"text-align: right;\">\n",
              "      <th></th>\n",
              "      <th>予測 failed</th>\n",
              "      <th>予測 successful</th>\n",
              "    </tr>\n",
              "  </thead>\n",
              "  <tbody>\n",
              "    <tr>\n",
              "      <th>実績 failed</th>\n",
              "      <td>197610</td>\n",
              "      <td>1</td>\n",
              "    </tr>\n",
              "    <tr>\n",
              "      <th>実績 successful</th>\n",
              "      <td>133850</td>\n",
              "      <td>1</td>\n",
              "    </tr>\n",
              "  </tbody>\n",
              "</table>\n",
              "</div>"
            ],
            "text/plain": [
              "               予測 failed  予測 successful\n",
              "実績 failed         197610              1\n",
              "実績 successful     133850              1"
            ]
          },
          "metadata": {
            "tags": []
          },
          "execution_count": 49
        }
      ]
    },
    {
      "cell_type": "code",
      "metadata": {
        "id": "epteCyfMoRnJ",
        "outputId": "520e45be-2fd9-4bfd-8bf2-3f0b8638159a",
        "colab": {
          "base_uri": "https://localhost:8080/",
          "height": 85
        }
      },
      "source": [
        "# 正答率を計算\n",
        "accuracy =  accuracy_score(y, y_est)\n",
        "print('正答率（Accuracy） = {:.3f}%'.format(100 * accuracy))\n",
        "\n",
        "# Precision, Recall, F1-scoreを計算\n",
        "precision, recall, f1_score, _ = precision_recall_fscore_support(y, y_est)\n",
        "\n",
        "# Precision, Recall, F1-scoreを表示\n",
        "print('適合率（Precision） = {:.3f}%'.format(100 * precision[1]))\n",
        "print('再現率（Recall） = {:.3f}%'.format(100 * recall[1]))\n",
        "print('F1値（F1-score） = {:.3f}%'.format(100 * f1_score[1]))"
      ],
      "execution_count": null,
      "outputs": [
        {
          "output_type": "stream",
          "text": [
            "正答率（Accuracy） = 59.618%\n",
            "適合率（Precision） = 50.000%\n",
            "再現率（Recall） = 0.001%\n",
            "F1値（F1-score） = 0.001%\n"
          ],
          "name": "stdout"
        }
      ]
    },
    {
      "cell_type": "markdown",
      "metadata": {
        "id": "oIu5-27m4J6D"
      },
      "source": [
        "# 7.まとめ\n",
        "\n",
        "ロジスティック回帰による予測が1つを除いてすべてfailedの予測となり、正答率59.618%と予測ができていない結果となっている。\n",
        "\n",
        "特徴量から学習ができていない。\n"
      ]
    },
    {
      "cell_type": "code",
      "metadata": {
        "id": "_FZLdkh79P2N"
      },
      "source": [
        ""
      ],
      "execution_count": null,
      "outputs": []
    }
  ]
}